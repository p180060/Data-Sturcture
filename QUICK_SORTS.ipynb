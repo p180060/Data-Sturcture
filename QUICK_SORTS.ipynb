{
 "cells": [
  {
   "cell_type": "code",
   "execution_count": 6,
   "metadata": {},
   "outputs": [
    {
     "name": "stdout",
     "output_type": "stream",
     "text": [
      "[1, 2, 3, 4, 5, 6, 7, 8, 9]\n"
     ]
    }
   ],
   "source": [
    "def quick_sort(values):\n",
    "    if(len(values) <= 1):\n",
    "        return (values)\n",
    "    pivot=values[0]\n",
    "    less_than_pivot=[]\n",
    "    greater_than_pivot=[]\n",
    "    for i in values[1:]:\n",
    "        if(pivot >= i):\n",
    "            less_than_pivot.append(i)\n",
    "        else:\n",
    "            greater_than_pivot.append(i)\n",
    "    return quick_sort(less_than_pivot) + [pivot] + quick_sort(greater_than_pivot)\n",
    "values=[9,1,5,2,8,3,7,4,6]\n",
    "print(quick_sort(values))\n"
   ]
  },
  {
   "cell_type": "code",
   "execution_count": null,
   "metadata": {},
   "outputs": [],
   "source": []
  }
 ],
 "metadata": {
  "kernelspec": {
   "display_name": "Python 3",
   "language": "python",
   "name": "python3"
  },
  "language_info": {
   "codemirror_mode": {
    "name": "ipython",
    "version": 3
   },
   "file_extension": ".py",
   "mimetype": "text/x-python",
   "name": "python",
   "nbconvert_exporter": "python",
   "pygments_lexer": "ipython3",
   "version": "3.8.10"
  }
 },
 "nbformat": 4,
 "nbformat_minor": 4
}
