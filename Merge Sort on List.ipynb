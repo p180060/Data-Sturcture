{
 "cells": [
  {
   "cell_type": "code",
   "execution_count": 22,
   "metadata": {},
   "outputs": [
    {
     "name": "stdout",
     "output_type": "stream",
     "text": [
      "True\n"
     ]
    }
   ],
   "source": [
    "def merge_sort(list1):\n",
    "    \"\"\"\n",
    "        Sorting in the Ascending Order\n",
    "        Return A new Sorting list\n",
    "        Divide:\n",
    "        Conqer:\n",
    "        Combine:\n",
    "        \n",
    "        \n",
    "        Run time of overall function is 0(n log n)\n",
    "    \"\"\"\n",
    "    if(len(list1) <= 1 ):\n",
    "        return list1\n",
    "    \n",
    "    left_half,right_half=split(list1)\n",
    "    left =  merge_sort(left_half)\n",
    "    right = merge_sort(right_half)\n",
    "\n",
    "    return merge(left,right)\n",
    "    \n",
    "def split(list1):\n",
    "    \"\"\"\n",
    "        Divid the list1 into sublist\n",
    "        \n",
    "        Takes overall O(log n) times \n",
    "    \"\"\"\n",
    "    mid=len(list1)//2\n",
    "    left=list1[:mid]\n",
    "    right=list1[mid:]\n",
    "    return left,right\n",
    "def merge(left,right):\n",
    "    \"\"\"\n",
    "        Merge two list and Return new Sorted list\n",
    "        Takes overall O(n ) times \n",
    "    \"\"\"\n",
    "    l=[]\n",
    "    i=0\n",
    "    j=0\n",
    "    while (i < len(left) and j < len(right)):\n",
    "        if(left[i]<right[j]):\n",
    "            l.append(left[i])\n",
    "            i += 1\n",
    "        else:\n",
    "            l.append(right[j])\n",
    "            j += 1\n",
    "    while(i<len(left)):\n",
    "        l.append(left[i])\n",
    "        i += 1\n",
    "    while(j < len(right)):\n",
    "        l.append(right[j])\n",
    "        j += 1\n",
    "    return l\n",
    "def verify_sorted(list):\n",
    "    if(len(list) <= 1):\n",
    "        return True\n",
    "    return list[0] < list[1] and verify_sorted(list[1:])\n",
    "alist=[54,62,93,12,17,77,31,44,50,20]\n",
    "list=(merge_sort(alist))\n",
    "print(verify_sorted(list))"
   ]
  },
  {
   "cell_type": "code",
   "execution_count": null,
   "metadata": {},
   "outputs": [],
   "source": []
  },
  {
   "cell_type": "code",
   "execution_count": null,
   "metadata": {},
   "outputs": [],
   "source": []
  }
 ],
 "metadata": {
  "kernelspec": {
   "display_name": "Python 3",
   "language": "python",
   "name": "python3"
  },
  "language_info": {
   "codemirror_mode": {
    "name": "ipython",
    "version": 3
   },
   "file_extension": ".py",
   "mimetype": "text/x-python",
   "name": "python",
   "nbconvert_exporter": "python",
   "pygments_lexer": "ipython3",
   "version": "3.8.10"
  }
 },
 "nbformat": 4,
 "nbformat_minor": 4
}
