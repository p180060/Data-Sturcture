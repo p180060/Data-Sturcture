{
 "cells": [
  {
   "cell_type": "code",
   "execution_count": 5,
   "metadata": {},
   "outputs": [
    {
     "name": "stdout",
     "output_type": "stream",
     "text": [
      "[2, 3, 4, 5, 8] 91\n"
     ]
    }
   ],
   "source": [
    "import random\n",
    "def issorted(values):\n",
    "    if(len(values) == 1):\n",
    "        return True\n",
    "    return values[0] < values[1] and issorted(values[1:])\n",
    "def bogo_sort(values):\n",
    "    count=0\n",
    "    while not issorted(values):\n",
    "        random.shuffle(values)\n",
    "        count += 1\n",
    "    return values,count\n",
    "\n",
    "values=[5,2,3,4,8]\n",
    "x,y=bogo_sort(values)\n",
    "print(x,y)"
   ]
  },
  {
   "cell_type": "code",
   "execution_count": null,
   "metadata": {},
   "outputs": [],
   "source": []
  }
 ],
 "metadata": {
  "kernelspec": {
   "display_name": "Python 3",
   "language": "python",
   "name": "python3"
  },
  "language_info": {
   "codemirror_mode": {
    "name": "ipython",
    "version": 3
   },
   "file_extension": ".py",
   "mimetype": "text/x-python",
   "name": "python",
   "nbconvert_exporter": "python",
   "pygments_lexer": "ipython3",
   "version": "3.8.10"
  }
 },
 "nbformat": 4,
 "nbformat_minor": 4
}
