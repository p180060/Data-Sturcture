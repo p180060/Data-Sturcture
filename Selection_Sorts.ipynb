{
 "cells": [
  {
   "cell_type": "code",
   "execution_count": 28,
   "metadata": {},
   "outputs": [
    {
     "name": "stdout",
     "output_type": "stream",
     "text": [
      "3\n",
      "[1, 2, 3, 4, 6, 8, 9]\n"
     ]
    }
   ],
   "source": [
    "def Selection_sorts(values,Svalues):\n",
    "    minimum=0\n",
    "    for i in range(0,len(values)):\n",
    "        min_index=index_of_min(values)\n",
    "        Svalues.append(values.pop(min_index))\n",
    "    return Svalues\n",
    "def index_of_min(values):\n",
    "    mim=0\n",
    "    for i in range(0,len(values)):\n",
    "            if(values[i] < values[mim]):\n",
    "                mim=i\n",
    "    return mim\n",
    "values=[2,3,6,1,9,4,8]\n",
    "Svalues=[]\n",
    "print(index_of_min(values))\n",
    "print(Selection_sorts(values,Svalues))"
   ]
  },
  {
   "cell_type": "code",
   "execution_count": null,
   "metadata": {},
   "outputs": [],
   "source": []
  }
 ],
 "metadata": {
  "kernelspec": {
   "display_name": "Python 3",
   "language": "python",
   "name": "python3"
  },
  "language_info": {
   "codemirror_mode": {
    "name": "ipython",
    "version": 3
   },
   "file_extension": ".py",
   "mimetype": "text/x-python",
   "name": "python",
   "nbconvert_exporter": "python",
   "pygments_lexer": "ipython3",
   "version": "3.8.10"
  }
 },
 "nbformat": 4,
 "nbformat_minor": 4
}
