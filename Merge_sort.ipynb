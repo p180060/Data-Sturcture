{
 "cells": [
  {
   "cell_type": "code",
   "execution_count": 15,
   "metadata": {},
   "outputs": [],
   "source": [
    "def merge_sort(values):\n",
    "    if(len(values) <= 1):\n",
    "        return values\n",
    "    mid=len(values)//2\n",
    "    left_values=merge_sort(values[:mid])\n",
    "    right_values=merge_sort(values[mid:])\n",
    "    sorted_values=[]\n",
    "    left_index=0\n",
    "    right_index=0\n",
    "    while(left_index < len(left_values) and right_index < len(right_values)):\n",
    "        if(left_values[left_index] < right_values[right_index]):\n",
    "            sorted_values.append(left_values[left_index])\n",
    "            left_index += 1\n",
    "        else:\n",
    "            sorted_values.append(right_values[right_index])\n",
    "            right_index += 1\n",
    "    sorted_values += left_values[left_index:]\n",
    "    sorted_values += right_values[right_index:]\n",
    "    return sorted_values"
   ]
  },
  {
   "cell_type": "code",
   "execution_count": 16,
   "metadata": {},
   "outputs": [
    {
     "name": "stdout",
     "output_type": "stream",
     "text": [
      "[1, 2, 3, 4, 5, 5, 6, 9]\n"
     ]
    }
   ],
   "source": [
    "values=[2,1,5,6,9,3,4,5]\n",
    "print(merge_sort(values))"
   ]
  },
  {
   "cell_type": "code",
   "execution_count": null,
   "metadata": {},
   "outputs": [],
   "source": []
  }
 ],
 "metadata": {
  "kernelspec": {
   "display_name": "Python 3",
   "language": "python",
   "name": "python3"
  },
  "language_info": {
   "codemirror_mode": {
    "name": "ipython",
    "version": 3
   },
   "file_extension": ".py",
   "mimetype": "text/x-python",
   "name": "python",
   "nbconvert_exporter": "python",
   "pygments_lexer": "ipython3",
   "version": "3.8.10"
  }
 },
 "nbformat": 4,
 "nbformat_minor": 4
}
